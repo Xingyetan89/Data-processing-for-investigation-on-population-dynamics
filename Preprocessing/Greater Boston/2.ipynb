{
 "cells": [
  {
   "cell_type": "code",
   "execution_count": 1,
   "id": "ffa44998-01d9-41af-a3ca-c6773184ba12",
   "metadata": {},
   "outputs": [],
   "source": [
    "import numpy as np\n",
    "import pandas as pd"
   ]
  },
  {
   "cell_type": "code",
   "execution_count": 2,
   "id": "4a6b18dd-ef6a-45f4-bddd-603f6a7ab3fa",
   "metadata": {},
   "outputs": [],
   "source": [
    "MSA = 'Boston-Cambridge-Newton, MA-NH'\n",
    "cache_path = f'{MSA}/cache.csv'"
   ]
  },
  {
   "cell_type": "code",
   "execution_count": 3,
   "id": "292249f6-a9fa-458e-a8fb-09c429018a31",
   "metadata": {},
   "outputs": [],
   "source": [
    "df = pd.read_csv(cache_path) # it should take very long"
   ]
  },
  {
   "cell_type": "code",
   "execution_count": 5,
   "id": "7a54642b-7e46-41d1-964f-b46646b1c28a",
   "metadata": {},
   "outputs": [],
   "source": [
    "start_date = pd.Timestamp('2020-02-03 00:00:00')\n",
    "end_date = pd.Timestamp('2020-02-16 23:59:59')\n",
    "df = df[(df['day'] >= 3) & (df['day'] <= 16)]\n",
    "agg = df.groupby(['month','day','20min_id','grid_id']).size().reset_index()\n",
    "agg.columns = ['month', 'day', '20min_id', 'grid_id', 'num']"
   ]
  },
  {
   "cell_type": "code",
   "execution_count": 6,
   "id": "c0c2221e-30a4-4adb-9709-6633f5678056",
   "metadata": {},
   "outputs": [],
   "source": [
    "for month in agg.month.unique():\n",
    "    temp = agg[agg.month==month]\n",
    "    temp.to_csv(f'{MSA}/month_{month}.csv')"
   ]
  }
 ],
 "metadata": {
  "kernelspec": {
   "display_name": "Python 3 (ipykernel)",
   "language": "python",
   "name": "python3"
  },
  "language_info": {
   "codemirror_mode": {
    "name": "ipython",
    "version": 3
   },
   "file_extension": ".py",
   "mimetype": "text/x-python",
   "name": "python",
   "nbconvert_exporter": "python",
   "pygments_lexer": "ipython3",
   "version": "3.10.13"
  }
 },
 "nbformat": 4,
 "nbformat_minor": 5
}
